{
 "cells": [
  {
   "cell_type": "code",
   "execution_count": 1,
   "metadata": {},
   "outputs": [],
   "source": [
    "import gensim\n",
    "import torch\n",
    "from torch.utils.data import DataLoader, TensorDataset\n",
    "import nltk\n",
    "import pandas as pd\n",
    "from collections import Counter\n",
    "import numpy as np\n",
    "import torch.nn as nn\n",
    "import torch.nn.functional as F\n",
    "from sklearn.model_selection import train_test_split\n",
    "from sklearn import metrics\n",
    "from transformers import BertTokenizer\n",
    "from transformers import BertForSequenceClassification"
   ]
  },
  {
   "cell_type": "code",
   "execution_count": 56,
   "metadata": {},
   "outputs": [],
   "source": [
    "data_file = ['./rt-polaritydata/rt-polarity-pos.txt','./rt-polaritydata/rt-polarity-neg.txt']"
   ]
  },
  {
   "cell_type": "code",
   "execution_count": 57,
   "metadata": {},
   "outputs": [],
   "source": [
    "max_length = 68\n",
    "PAD = 0"
   ]
  },
  {
   "cell_type": "code",
   "execution_count": 59,
   "metadata": {},
   "outputs": [],
   "source": [
    "x_list = []\n",
    "y_list = []\n",
    "tokenizer = BertTokenizer.from_pretrained('./bert_base_uncase/')\n",
    "for i in range(2):\n",
    "    count = 0\n",
    "    with open(data_file[i],'r',encoding='utf-8')as f:\n",
    "        for line in f.readlines():\n",
    "            count+=1\n",
    "            sentence = line.strip().lower()\n",
    "            x = list(tokenizer.encode(sentence))\n",
    "            x = x[:max_length]\n",
    "            n_pad = max_length - len(x)\n",
    "            x = x + n_pad * [PAD]\n",
    "            x_list.append(x)\n",
    "        y_list = y_list + [i] *  count\n",
    "X = np.array(x_list,dtype=np.int64)\n",
    "Y = np.array(y_list,dtype=np.int64)"
   ]
  },
  {
   "cell_type": "code",
   "execution_count": 60,
   "metadata": {},
   "outputs": [
    {
     "name": "stdout",
     "output_type": "stream",
     "text": [
      "(10661, 68) (10661,)\n"
     ]
    }
   ],
   "source": [
    "print(X.shape,Y.shape)"
   ]
  },
  {
   "cell_type": "code",
   "execution_count": 61,
   "metadata": {},
   "outputs": [],
   "source": [
    "x_train,x_test,y_train,y_test = train_test_split(X,Y,test_size=0.1,random_state=1)"
   ]
  },
  {
   "cell_type": "code",
   "execution_count": 62,
   "metadata": {},
   "outputs": [],
   "source": [
    "train_dataset = TensorDataset(torch.from_numpy(x_train),torch.from_numpy(y_train))\n",
    "test_dataset = TensorDataset(torch.from_numpy(x_test),torch.from_numpy(y_test))\n",
    "train_loader = DataLoader(train_dataset,batch_size=16,shuffle=True)\n",
    "test_loader = DataLoader(test_dataset,batch_size=16)"
   ]
  },
  {
   "cell_type": "code",
   "execution_count": 63,
   "metadata": {},
   "outputs": [
    {
     "name": "stdout",
     "output_type": "stream",
     "text": [
      "cuda\n",
      "Tue Jul 14 15:05:27 2020       \n",
      "+-----------------------------------------------------------------------------+\n",
      "| NVIDIA-SMI 440.100      Driver Version: 440.100      CUDA Version: 10.2     |\n",
      "|-------------------------------+----------------------+----------------------+\n",
      "| GPU  Name        Persistence-M| Bus-Id        Disp.A | Volatile Uncorr. ECC |\n",
      "| Fan  Temp  Perf  Pwr:Usage/Cap|         Memory-Usage | GPU-Util  Compute M. |\n",
      "|===============================+======================+======================|\n",
      "|   0  GeForce RTX 208...  Off  | 00000000:02:00.0 Off |                  N/A |\n",
      "| 85%   73C    P2   215W / 250W |   6190MiB / 11019MiB |     60%      Default |\n",
      "+-------------------------------+----------------------+----------------------+\n",
      "|   1  GeForce RTX 208...  Off  | 00000000:04:00.0 Off |                  N/A |\n",
      "| 93%   78C    P2   242W / 250W |   1384MiB / 11019MiB |     57%      Default |\n",
      "+-------------------------------+----------------------+----------------------+\n",
      "|   2  GeForce RTX 208...  Off  | 00000000:83:00.0 Off |                  N/A |\n",
      "| 97%   82C    P2   204W / 250W |   1384MiB / 11019MiB |     69%      Default |\n",
      "+-------------------------------+----------------------+----------------------+\n",
      "|   3  GeForce RTX 208...  Off  | 00000000:84:00.0 Off |                  N/A |\n",
      "| 90%   77C    P2   201W / 250W |   1384MiB / 11019MiB |     68%      Default |\n",
      "+-------------------------------+----------------------+----------------------+\n",
      "                                                                               \n",
      "+-----------------------------------------------------------------------------+\n",
      "| Processes:                                                       GPU Memory |\n",
      "|  GPU       PID   Type   Process name                             Usage      |\n",
      "|=============================================================================|\n",
      "|    0     10642      C   /home/pengjb6/anaconda3/bin/python          1373MiB |\n",
      "|    0     17814      C   ...aven/anaconda3/envs/research/bin/python  1045MiB |\n",
      "|    0     20397      C   /home/HanZhou/anaconda3/bin/python          3761MiB |\n",
      "|    1     10632      C   /home/pengjb6/anaconda3/bin/python          1373MiB |\n",
      "|    2     10635      C   /home/pengjb6/anaconda3/bin/python          1373MiB |\n",
      "|    3     10638      C   /home/pengjb6/anaconda3/bin/python          1373MiB |\n",
      "+-----------------------------------------------------------------------------+\n"
     ]
    }
   ],
   "source": [
    "device = torch.device(\"cuda\" if torch.cuda.is_available() else \"cpu\")\n",
    "print(device)\n",
    "!nvidia-smi"
   ]
  },
  {
   "cell_type": "code",
   "execution_count": 64,
   "metadata": {},
   "outputs": [],
   "source": [
    "model = BertForSequenceClassification.from_pretrained('./bert_base_uncase/')"
   ]
  },
  {
   "cell_type": "code",
   "execution_count": 65,
   "metadata": {},
   "outputs": [],
   "source": [
    "device = torch.device(\"cuda\" if torch.cuda.is_available() else \"cpu\")\n",
    "model.to(device)\n",
    "optimizer = torch.optim.Adam(model.parameters(),lr=1e-4)\n",
    "loss_func = nn.CrossEntropyLoss()"
   ]
  },
  {
   "cell_type": "code",
   "execution_count": 76,
   "metadata": {
    "collapsed": true,
    "jupyter": {
     "outputs_hidden": true
    }
   },
   "outputs": [
    {
     "name": "stdout",
     "output_type": "stream",
     "text": [
      "tensor([0, 1, 1, 1, 0, 0, 0, 0, 0, 0, 0, 0, 1, 1, 1, 1], device='cuda:0')\n",
      "tensor([1, 0, 1, 1, 1, 1, 0, 1, 1, 1, 1, 1, 0, 0, 0, 0], device='cuda:0')\n",
      "tensor([1, 0, 0, 1, 0, 0, 0, 0, 0, 0, 0, 1, 0, 1, 0, 0], device='cuda:0')\n",
      "tensor([1, 1, 1, 0, 0, 0, 0, 1, 1, 1, 0, 0, 1, 1, 0, 0], device='cuda:0')\n",
      "tensor([1, 0, 0, 1, 0, 0, 0, 0, 0, 0, 0, 1, 1, 0, 1, 1], device='cuda:0')\n",
      "tensor([0, 0, 0, 0, 1, 1, 1, 0, 0, 0, 0, 1, 0, 1, 1, 0], device='cuda:0')\n",
      "tensor([0, 0, 0, 0, 0, 0, 0, 1, 0, 0, 0, 1, 0, 1, 0, 1], device='cuda:0')\n",
      "tensor([1, 0, 1, 1, 1, 1, 0, 0, 0, 0, 1, 1, 0, 0, 0, 0], device='cuda:0')\n",
      "tensor([0, 1, 0, 0, 0, 0, 1, 0, 0, 1, 0, 0, 0, 0, 0, 0], device='cuda:0')\n",
      "tensor([1, 0, 1, 0, 0, 0, 1, 0, 1, 1, 1, 0, 1, 1, 1, 0], device='cuda:0')\n",
      "tensor([0, 1, 0, 1, 0, 1, 0, 0, 0, 1, 0, 1, 0, 0, 1, 1], device='cuda:0')\n",
      "tensor([1, 1, 0, 0, 1, 0, 0, 1, 0, 1, 1, 0, 1, 1, 1, 1], device='cuda:0')\n",
      "tensor([1, 0, 0, 0, 1, 0, 0, 0, 1, 1, 0, 1, 1, 0, 1, 0], device='cuda:0')\n",
      "tensor([1, 0, 1, 1, 0, 0, 0, 0, 0, 1, 0, 0, 0, 0, 1, 0], device='cuda:0')\n",
      "tensor([0, 1, 1, 0, 0, 1, 1, 0, 0, 0, 0, 1, 0, 1, 0, 1], device='cuda:0')\n",
      "tensor([0, 1, 0, 0, 0, 0, 0, 0, 0, 0, 1, 0, 0, 0, 0, 1], device='cuda:0')\n",
      "tensor([0, 1, 0, 1, 1, 0, 0, 0, 0, 0, 1, 1, 1, 1, 1, 0], device='cuda:0')\n",
      "tensor([0, 1, 0, 0, 0, 0, 1, 0, 0, 0, 1, 0, 1, 0, 1, 1], device='cuda:0')\n",
      "tensor([0, 1, 1, 0, 0, 0, 1, 0, 1, 1, 0, 0, 0, 0, 0, 1], device='cuda:0')\n",
      "tensor([1, 0, 1, 0, 0, 1, 0, 1, 0, 1, 1, 1, 1, 1, 0, 0], device='cuda:0')\n",
      "tensor([0, 0, 0, 0, 0, 1, 0, 0, 0, 0, 0, 0, 0, 1, 0, 0], device='cuda:0')\n",
      "tensor([1, 0, 1, 0, 0, 1, 0, 0, 0, 0, 0, 0, 0, 0, 1, 0], device='cuda:0')\n",
      "tensor([0, 1, 0, 0, 0, 0, 1, 0, 1, 0, 1, 0, 0, 0, 0, 0], device='cuda:0')\n",
      "tensor([0, 1, 1, 1, 0, 0, 0, 1, 0, 0, 0, 0, 0, 0, 1, 0], device='cuda:0')\n",
      "tensor([1, 1, 0, 0, 1, 0, 0, 0, 0, 0, 0, 1, 1, 0, 1, 0], device='cuda:0')\n",
      "tensor([1, 0, 0, 0, 0, 0, 1, 1, 0, 1, 0, 1, 0, 0, 1, 0], device='cuda:0')\n",
      "tensor([0, 0, 0, 1, 1, 1, 0, 0, 0, 0, 0, 1, 0, 0, 0, 0], device='cuda:0')\n",
      "tensor([0, 1, 0, 1, 0, 0, 1, 1, 0, 1, 0, 0, 0, 0, 1, 1], device='cuda:0')\n",
      "tensor([0, 0, 1, 0, 0, 0, 1, 1, 1, 0, 0, 1, 1, 1, 0, 1], device='cuda:0')\n",
      "tensor([0, 1, 1, 0, 0, 1, 0, 0, 0, 1, 1, 1, 1, 0, 0, 0], device='cuda:0')\n",
      "tensor([0, 0, 0, 1, 0, 0, 0, 1, 1, 0, 1, 0, 0, 1, 1, 0], device='cuda:0')\n",
      "tensor([1, 0, 1, 0, 0, 0, 0, 0, 1, 0, 0, 0, 1, 0, 0, 0], device='cuda:0')\n",
      "tensor([0, 0, 0, 1, 1, 0, 0, 1, 0, 1, 0, 0, 0, 0, 0, 0], device='cuda:0')\n",
      "tensor([0, 1, 0, 0, 0, 0, 1, 1, 1, 0, 1, 0, 1, 1, 0, 1], device='cuda:0')\n",
      "tensor([0, 0, 0, 0, 0, 0, 1, 1, 1, 0, 0, 1, 1, 0, 0, 1], device='cuda:0')\n",
      "tensor([0, 1, 0, 1, 1, 0, 0, 1, 1, 0, 1, 1, 1, 0, 1, 1], device='cuda:0')\n",
      "tensor([0, 0, 0, 1, 0, 1, 1, 1, 0, 0, 1, 0, 0, 1, 0, 0], device='cuda:0')\n",
      "tensor([0, 0, 0, 1, 0, 0, 1, 0, 0, 0, 1, 0, 1, 1, 0, 0], device='cuda:0')\n",
      "tensor([1, 0, 0, 1, 0, 1, 0, 0, 1, 0, 0, 0, 0, 0, 1, 1], device='cuda:0')\n",
      "tensor([1, 0, 1, 1, 0, 0, 0, 0, 0, 0, 1, 1, 0, 1, 0, 1], device='cuda:0')\n",
      "tensor([0, 0, 0, 0, 1, 1, 0, 0, 0, 0, 0, 0, 0, 0, 0, 0], device='cuda:0')\n",
      "tensor([0, 1, 0, 1, 1, 1, 1, 0, 0, 1, 0, 1, 1, 1, 0, 0], device='cuda:0')\n",
      "tensor([0, 0, 1, 1, 1, 0, 1, 1, 1, 0, 0, 1, 0, 0, 0, 1], device='cuda:0')\n",
      "tensor([0, 0, 1, 0, 1, 1, 1, 0, 1, 0, 0, 1, 0, 0, 1, 0], device='cuda:0')\n",
      "tensor([0, 1, 0, 1, 0, 1, 1, 0, 1, 0, 0, 0, 0, 0, 0, 0], device='cuda:0')\n",
      "tensor([0, 0, 0, 1, 1, 0, 0, 0, 0, 0, 1, 0, 1, 0, 1, 0], device='cuda:0')\n",
      "tensor([0, 0, 1, 0, 1, 0, 0, 0, 0, 0, 1, 0, 0, 1, 1, 0], device='cuda:0')\n",
      "tensor([0, 1, 1, 0, 0, 0, 0, 0, 0, 1, 1, 0, 1, 1, 0, 1], device='cuda:0')\n",
      "tensor([1, 0, 0, 1, 0, 0, 1, 0, 0, 1, 0, 0, 1, 1, 0, 0], device='cuda:0')\n",
      "tensor([0, 0, 0, 0, 0, 0, 0, 0, 0, 1, 0, 0, 0, 0, 0, 0], device='cuda:0')\n",
      "tensor([0, 0, 1, 1, 0, 0, 1, 0, 0, 0, 0, 1, 0, 0, 0, 0], device='cuda:0')\n",
      "tensor([0, 0, 0, 0, 0, 0, 0, 0, 0, 0, 1, 0, 1, 0, 0, 1], device='cuda:0')\n",
      "tensor([0, 1, 1, 0, 0, 1, 0, 0, 1, 1, 0, 0, 0, 0, 0, 1], device='cuda:0')\n",
      "tensor([0, 0, 0, 1, 1, 1, 0, 1, 0, 1, 0, 0, 1, 1, 0, 1], device='cuda:0')\n",
      "tensor([1, 0, 0, 0, 0, 1, 1, 0, 0, 0, 0, 1, 1, 0, 1, 0], device='cuda:0')\n",
      "tensor([1, 0, 0, 1, 0, 0, 0, 1, 0, 1, 0, 1, 0, 0, 0, 0], device='cuda:0')\n",
      "tensor([0, 1, 1, 0, 0, 1, 0, 0, 1, 0, 1, 0, 0, 0, 0, 1], device='cuda:0')\n",
      "tensor([1, 0, 0, 0, 1, 1, 0, 1, 1, 0, 0, 1, 0, 0, 1, 0], device='cuda:0')\n",
      "tensor([1, 0, 1, 1, 0, 1, 1, 1, 1, 0, 0, 1, 0, 1, 0, 0], device='cuda:0')\n",
      "tensor([0, 0, 1, 0, 1, 0, 0, 0, 0, 1, 1, 1, 0, 0, 0, 0], device='cuda:0')\n",
      "tensor([1, 0, 1, 0, 0, 0, 0, 0, 0, 0, 1, 0, 0, 0, 0, 0], device='cuda:0')\n",
      "tensor([1, 0, 0, 1, 0, 1, 0, 0, 0, 0, 0, 0, 1, 1, 0, 0], device='cuda:0')\n",
      "tensor([1, 0, 0, 0, 0, 1, 0, 0, 0, 1, 0, 0, 1, 1, 1, 1], device='cuda:0')\n",
      "tensor([0, 1, 1, 1, 0, 0, 0, 0, 0, 1, 1, 1, 0, 1, 0, 0], device='cuda:0')\n",
      "tensor([0, 1, 0, 0, 1, 0, 1, 0, 0, 1, 0, 1, 0, 1, 0, 1], device='cuda:0')\n",
      "tensor([1, 1, 0, 0, 1, 0, 0, 0, 1, 0, 1, 0, 0, 1, 1, 1], device='cuda:0')\n",
      "tensor([0, 1, 1, 1, 1, 0, 0, 0, 1, 0, 0], device='cuda:0')\n",
      "epoch 1\n",
      "Loss:0.144105583  Test_accuracy: 0.812558575,  Test_f1_score: 0.77924945\n",
      "tensor([0, 1, 1, 1, 0, 0, 0, 0, 0, 0, 1, 0, 1, 1, 1, 1], device='cuda:0')\n",
      "tensor([1, 1, 1, 1, 1, 1, 0, 1, 1, 1, 1, 1, 0, 0, 0, 0], device='cuda:0')\n",
      "tensor([1, 0, 1, 1, 0, 0, 0, 0, 0, 0, 0, 1, 1, 1, 0, 0], device='cuda:0')\n",
      "tensor([1, 0, 1, 0, 1, 0, 0, 1, 1, 1, 1, 0, 1, 1, 0, 1], device='cuda:0')\n",
      "tensor([1, 0, 0, 1, 0, 0, 1, 0, 0, 1, 0, 1, 1, 0, 1, 1], device='cuda:0')\n",
      "tensor([0, 1, 0, 0, 1, 1, 1, 0, 0, 0, 0, 1, 0, 1, 1, 1], device='cuda:0')\n",
      "tensor([0, 0, 0, 0, 0, 0, 0, 1, 0, 0, 0, 1, 0, 1, 0, 1], device='cuda:0')\n",
      "tensor([1, 0, 0, 1, 1, 1, 0, 0, 0, 0, 0, 1, 0, 0, 0, 0], device='cuda:0')\n",
      "tensor([0, 0, 0, 0, 1, 0, 1, 0, 0, 1, 1, 0, 0, 0, 0, 0], device='cuda:0')\n",
      "tensor([1, 0, 1, 0, 0, 0, 1, 0, 1, 1, 0, 1, 1, 1, 1, 0], device='cuda:0')\n",
      "tensor([0, 1, 0, 1, 0, 1, 0, 0, 0, 1, 0, 1, 0, 0, 1, 1], device='cuda:0')\n",
      "tensor([1, 1, 1, 0, 1, 0, 0, 1, 0, 1, 0, 0, 1, 1, 1, 1], device='cuda:0')\n",
      "tensor([1, 0, 1, 1, 1, 0, 0, 1, 1, 1, 0, 1, 1, 0, 1, 0], device='cuda:0')\n",
      "tensor([1, 0, 1, 1, 0, 0, 0, 1, 0, 1, 0, 0, 1, 0, 1, 1], device='cuda:0')\n",
      "tensor([0, 1, 1, 1, 0, 1, 1, 0, 0, 0, 0, 1, 0, 1, 0, 0], device='cuda:0')\n",
      "tensor([0, 1, 0, 0, 0, 0, 0, 0, 0, 0, 1, 0, 0, 0, 0, 1], device='cuda:0')\n",
      "tensor([0, 1, 0, 1, 1, 1, 0, 0, 0, 0, 1, 1, 1, 0, 1, 1], device='cuda:0')\n",
      "tensor([0, 1, 0, 0, 1, 0, 1, 0, 1, 1, 1, 0, 1, 1, 1, 1], device='cuda:0')\n",
      "tensor([0, 1, 1, 1, 0, 1, 1, 0, 1, 1, 0, 0, 0, 0, 0, 1], device='cuda:0')\n",
      "tensor([1, 1, 1, 0, 0, 1, 0, 1, 1, 1, 1, 1, 1, 1, 0, 0], device='cuda:0')\n",
      "tensor([0, 0, 0, 0, 0, 1, 0, 0, 1, 0, 0, 0, 0, 1, 0, 0], device='cuda:0')\n",
      "tensor([1, 0, 1, 0, 0, 1, 0, 1, 0, 0, 0, 0, 0, 0, 1, 0], device='cuda:0')\n",
      "tensor([0, 1, 0, 0, 0, 0, 1, 0, 1, 0, 1, 0, 0, 0, 0, 0], device='cuda:0')\n",
      "tensor([1, 1, 1, 1, 0, 0, 0, 1, 0, 0, 0, 0, 0, 0, 0, 0], device='cuda:0')\n",
      "tensor([1, 1, 0, 1, 1, 0, 0, 0, 0, 0, 0, 1, 1, 0, 1, 0], device='cuda:0')\n",
      "tensor([1, 0, 0, 0, 1, 0, 1, 1, 0, 1, 0, 1, 0, 0, 1, 1], device='cuda:0')\n",
      "tensor([0, 0, 0, 0, 1, 0, 0, 1, 0, 0, 0, 1, 1, 0, 0, 1], device='cuda:0')\n",
      "tensor([0, 1, 1, 1, 0, 0, 0, 1, 0, 1, 0, 0, 0, 0, 1, 1], device='cuda:0')\n",
      "tensor([0, 1, 1, 0, 0, 0, 1, 1, 1, 0, 1, 1, 1, 0, 0, 1], device='cuda:0')\n",
      "tensor([0, 0, 1, 0, 0, 1, 0, 0, 0, 1, 1, 1, 1, 1, 0, 0], device='cuda:0')\n",
      "tensor([0, 0, 0, 0, 0, 0, 1, 1, 1, 0, 1, 0, 0, 1, 1, 1], device='cuda:0')\n",
      "tensor([1, 0, 1, 0, 0, 0, 0, 0, 1, 0, 0, 0, 1, 0, 0, 0], device='cuda:0')\n",
      "tensor([0, 0, 0, 1, 1, 0, 1, 1, 0, 1, 1, 0, 0, 0, 0, 1], device='cuda:0')\n",
      "tensor([1, 0, 0, 0, 0, 0, 0, 1, 1, 0, 1, 1, 1, 1, 0, 0], device='cuda:0')\n",
      "tensor([0, 1, 0, 0, 1, 0, 1, 1, 1, 0, 0, 1, 1, 0, 1, 1], device='cuda:0')\n",
      "tensor([0, 0, 0, 1, 0, 0, 1, 1, 1, 0, 1, 1, 1, 1, 1, 1], device='cuda:0')\n",
      "tensor([0, 1, 0, 1, 0, 1, 1, 1, 1, 0, 1, 0, 1, 1, 1, 0], device='cuda:0')\n",
      "tensor([1, 0, 0, 1, 1, 0, 1, 0, 0, 0, 1, 0, 1, 1, 0, 0], device='cuda:0')\n",
      "tensor([1, 0, 0, 1, 0, 1, 0, 0, 1, 0, 0, 0, 0, 1, 1, 1], device='cuda:0')\n",
      "tensor([1, 1, 1, 0, 0, 0, 1, 0, 0, 0, 1, 1, 0, 1, 0, 1], device='cuda:0')\n",
      "tensor([0, 0, 0, 0, 0, 1, 0, 0, 1, 0, 0, 0, 1, 0, 0, 0], device='cuda:0')\n",
      "tensor([0, 1, 0, 1, 0, 1, 1, 0, 0, 1, 0, 1, 1, 1, 0, 0], device='cuda:0')\n",
      "tensor([1, 0, 1, 1, 1, 0, 1, 1, 1, 0, 0, 1, 0, 0, 1, 1], device='cuda:0')\n",
      "tensor([0, 0, 1, 0, 1, 1, 1, 0, 0, 0, 0, 1, 1, 0, 1, 0], device='cuda:0')\n",
      "tensor([0, 0, 0, 1, 0, 1, 1, 0, 0, 0, 1, 0, 1, 1, 0, 1], device='cuda:0')\n",
      "tensor([0, 1, 0, 1, 1, 0, 0, 0, 0, 0, 1, 0, 1, 0, 0, 0], device='cuda:0')\n",
      "tensor([0, 0, 1, 0, 1, 0, 0, 1, 1, 0, 0, 1, 0, 1, 1, 0], device='cuda:0')\n",
      "tensor([0, 1, 1, 0, 0, 0, 0, 0, 1, 1, 1, 0, 1, 1, 0, 1], device='cuda:0')\n",
      "tensor([1, 0, 0, 1, 0, 0, 1, 0, 1, 1, 0, 0, 1, 1, 1, 0], device='cuda:0')\n",
      "tensor([0, 0, 0, 0, 0, 0, 1, 0, 0, 1, 0, 0, 0, 1, 1, 0], device='cuda:0')\n",
      "tensor([0, 0, 1, 1, 0, 0, 0, 0, 1, 0, 0, 0, 1, 0, 1, 0], device='cuda:0')\n",
      "tensor([1, 1, 0, 0, 0, 0, 1, 1, 0, 1, 0, 0, 1, 0, 1, 1], device='cuda:0')\n",
      "tensor([0, 1, 1, 0, 1, 1, 0, 0, 1, 1, 1, 1, 0, 0, 0, 1], device='cuda:0')\n",
      "tensor([0, 0, 0, 1, 1, 1, 0, 1, 0, 1, 0, 0, 1, 0, 0, 1], device='cuda:0')\n",
      "tensor([1, 0, 1, 0, 0, 1, 1, 0, 0, 1, 0, 1, 1, 0, 1, 0], device='cuda:0')\n",
      "tensor([1, 0, 1, 1, 0, 1, 0, 1, 0, 1, 0, 1, 0, 0, 0, 0], device='cuda:0')\n",
      "tensor([0, 1, 1, 0, 1, 1, 0, 0, 1, 0, 1, 0, 0, 0, 1, 1], device='cuda:0')\n",
      "tensor([1, 0, 0, 0, 1, 1, 0, 1, 0, 1, 0, 1, 1, 0, 1, 0], device='cuda:0')\n",
      "tensor([1, 1, 0, 1, 0, 1, 1, 1, 1, 1, 1, 1, 0, 1, 0, 0], device='cuda:0')\n",
      "tensor([0, 0, 1, 0, 1, 0, 0, 0, 0, 1, 1, 1, 1, 0, 0, 0], device='cuda:0')\n",
      "tensor([1, 0, 1, 1, 0, 0, 0, 0, 0, 1, 1, 1, 0, 0, 0, 0], device='cuda:0')\n",
      "tensor([1, 0, 0, 1, 0, 0, 1, 1, 0, 0, 0, 0, 1, 0, 0, 1], device='cuda:0')\n",
      "tensor([1, 0, 0, 0, 0, 1, 0, 1, 0, 1, 0, 1, 1, 1, 1, 1], device='cuda:0')\n",
      "tensor([0, 0, 1, 0, 0, 0, 0, 0, 0, 1, 1, 1, 0, 1, 0, 1], device='cuda:0')\n",
      "tensor([0, 0, 0, 0, 1, 1, 1, 0, 0, 1, 0, 1, 0, 1, 0, 1], device='cuda:0')\n",
      "tensor([1, 1, 1, 0, 1, 0, 0, 0, 1, 0, 1, 0, 0, 1, 1, 1], device='cuda:0')\n",
      "tensor([0, 1, 1, 1, 1, 0, 0, 0, 1, 0, 0], device='cuda:0')\n",
      "epoch 2\n",
      "Loss:0.011549711  Test_accuracy: 0.822867854,  Test_f1_score: 0.80851064\n",
      "tensor([0, 1, 1, 1, 0, 0, 0, 0, 0, 0, 0, 0, 1, 1, 1, 1], device='cuda:0')\n",
      "tensor([1, 0, 1, 1, 1, 1, 0, 1, 1, 1, 1, 1, 0, 0, 1, 0], device='cuda:0')\n",
      "tensor([1, 0, 0, 1, 0, 0, 1, 1, 0, 0, 0, 1, 1, 1, 0, 0], device='cuda:0')\n",
      "tensor([1, 0, 1, 0, 0, 0, 0, 1, 1, 1, 1, 1, 1, 1, 0, 0], device='cuda:0')\n",
      "tensor([1, 0, 0, 1, 0, 0, 1, 0, 0, 0, 0, 1, 1, 0, 1, 1], device='cuda:0')\n",
      "tensor([0, 1, 0, 0, 1, 1, 1, 0, 0, 0, 0, 1, 0, 1, 1, 1], device='cuda:0')\n",
      "tensor([0, 0, 0, 0, 1, 0, 0, 1, 0, 1, 0, 1, 1, 1, 0, 1], device='cuda:0')\n",
      "tensor([1, 0, 1, 1, 1, 1, 0, 1, 1, 0, 1, 1, 0, 0, 0, 0], device='cuda:0')\n",
      "tensor([0, 1, 0, 0, 1, 0, 1, 0, 0, 1, 1, 0, 0, 0, 0, 0], device='cuda:0')\n",
      "tensor([1, 1, 1, 0, 1, 0, 1, 0, 1, 1, 1, 1, 1, 1, 1, 0], device='cuda:0')\n",
      "tensor([0, 1, 1, 1, 0, 1, 0, 0, 0, 1, 1, 1, 0, 1, 1, 1], device='cuda:0')\n",
      "tensor([1, 1, 0, 0, 1, 1, 0, 1, 0, 1, 1, 0, 1, 1, 1, 1], device='cuda:0')\n",
      "tensor([1, 1, 0, 1, 1, 1, 0, 1, 1, 1, 0, 1, 1, 0, 1, 0], device='cuda:0')\n",
      "tensor([1, 0, 1, 1, 0, 0, 0, 0, 1, 1, 1, 0, 0, 0, 1, 1], device='cuda:0')\n",
      "tensor([0, 1, 1, 1, 0, 1, 1, 0, 0, 0, 0, 1, 0, 1, 0, 1], device='cuda:0')\n",
      "tensor([0, 1, 1, 0, 0, 0, 0, 0, 0, 0, 1, 1, 0, 0, 0, 1], device='cuda:0')\n",
      "tensor([0, 1, 1, 1, 1, 0, 0, 0, 0, 0, 1, 1, 1, 1, 1, 0], device='cuda:0')\n",
      "tensor([0, 1, 0, 0, 1, 0, 0, 0, 1, 1, 0, 0, 1, 1, 1, 1], device='cuda:0')\n",
      "tensor([0, 1, 1, 1, 0, 1, 0, 1, 1, 1, 0, 0, 0, 0, 0, 1], device='cuda:0')\n",
      "tensor([1, 0, 1, 0, 1, 1, 0, 1, 1, 1, 1, 1, 1, 1, 0, 0], device='cuda:0')\n",
      "tensor([1, 0, 0, 0, 0, 1, 0, 1, 1, 1, 1, 0, 0, 1, 0, 0], device='cuda:0')\n",
      "tensor([1, 1, 1, 0, 0, 1, 0, 0, 0, 0, 0, 0, 1, 0, 1, 0], device='cuda:0')\n",
      "tensor([0, 1, 0, 1, 0, 0, 1, 0, 1, 0, 1, 0, 0, 0, 0, 0], device='cuda:0')\n",
      "tensor([1, 1, 1, 1, 0, 0, 0, 1, 0, 0, 0, 0, 0, 0, 1, 0], device='cuda:0')\n",
      "tensor([1, 1, 1, 1, 1, 0, 0, 0, 0, 0, 0, 1, 1, 0, 1, 0], device='cuda:0')\n",
      "tensor([1, 0, 0, 0, 0, 0, 1, 0, 0, 1, 0, 1, 0, 0, 0, 1], device='cuda:0')\n",
      "tensor([0, 0, 0, 1, 1, 1, 0, 1, 0, 0, 0, 1, 1, 0, 1, 1], device='cuda:0')\n",
      "tensor([0, 1, 1, 1, 0, 1, 1, 1, 1, 1, 0, 0, 0, 0, 1, 1], device='cuda:0')\n",
      "tensor([0, 1, 1, 0, 1, 0, 1, 1, 1, 0, 1, 1, 1, 0, 0, 1], device='cuda:0')\n",
      "tensor([0, 0, 1, 0, 0, 1, 0, 0, 0, 1, 1, 1, 1, 0, 0, 0], device='cuda:0')\n",
      "tensor([0, 0, 0, 1, 0, 0, 1, 1, 1, 0, 1, 0, 0, 1, 1, 1], device='cuda:0')\n",
      "tensor([1, 0, 1, 0, 0, 0, 0, 0, 1, 0, 0, 0, 1, 0, 0, 0], device='cuda:0')\n",
      "tensor([0, 0, 0, 1, 1, 0, 1, 1, 0, 1, 0, 0, 1, 0, 0, 1], device='cuda:0')\n",
      "tensor([1, 1, 0, 0, 0, 0, 1, 1, 1, 0, 1, 1, 1, 1, 1, 1], device='cuda:0')\n",
      "tensor([1, 0, 0, 0, 1, 0, 1, 1, 1, 0, 0, 1, 1, 0, 1, 1], device='cuda:0')\n",
      "tensor([0, 1, 0, 1, 1, 0, 1, 1, 1, 0, 1, 1, 1, 1, 1, 1], device='cuda:0')\n",
      "tensor([1, 1, 0, 1, 0, 1, 1, 1, 1, 0, 1, 0, 1, 1, 1, 0], device='cuda:0')\n",
      "tensor([1, 0, 0, 1, 0, 0, 1, 0, 0, 0, 1, 0, 1, 1, 1, 0], device='cuda:0')\n",
      "tensor([1, 0, 0, 1, 0, 1, 0, 0, 1, 0, 0, 0, 0, 1, 1, 1], device='cuda:0')\n",
      "tensor([1, 1, 1, 1, 0, 0, 1, 0, 0, 0, 0, 1, 1, 1, 0, 1], device='cuda:0')\n",
      "tensor([0, 0, 1, 1, 1, 1, 0, 0, 1, 1, 1, 0, 1, 1, 1, 0], device='cuda:0')\n",
      "tensor([0, 1, 0, 1, 0, 1, 1, 0, 0, 1, 0, 1, 1, 1, 0, 0], device='cuda:0')\n",
      "tensor([1, 0, 1, 1, 1, 0, 1, 1, 1, 0, 0, 1, 0, 0, 1, 1], device='cuda:0')\n",
      "tensor([0, 0, 1, 1, 1, 1, 1, 0, 1, 1, 0, 1, 1, 1, 1, 0], device='cuda:0')\n",
      "tensor([0, 1, 0, 1, 0, 1, 1, 0, 1, 1, 0, 0, 1, 1, 0, 1], device='cuda:0')\n",
      "tensor([0, 1, 0, 1, 1, 1, 0, 0, 0, 0, 1, 0, 1, 0, 1, 1], device='cuda:0')\n",
      "tensor([0, 0, 1, 0, 1, 0, 0, 1, 1, 0, 1, 0, 0, 1, 1, 0], device='cuda:0')\n",
      "tensor([1, 1, 1, 0, 0, 0, 0, 0, 1, 1, 1, 0, 1, 1, 0, 1], device='cuda:0')\n",
      "tensor([1, 0, 1, 1, 0, 0, 1, 0, 0, 1, 0, 0, 1, 1, 1, 0], device='cuda:0')\n",
      "tensor([0, 0, 0, 0, 0, 0, 1, 0, 0, 1, 0, 0, 0, 0, 1, 0], device='cuda:0')\n",
      "tensor([1, 0, 1, 1, 0, 0, 1, 1, 1, 0, 0, 1, 1, 0, 1, 0], device='cuda:0')\n",
      "tensor([0, 0, 0, 0, 0, 1, 1, 1, 1, 1, 1, 0, 1, 0, 1, 1], device='cuda:0')\n",
      "tensor([0, 1, 1, 0, 1, 1, 0, 0, 1, 1, 1, 1, 0, 0, 0, 1], device='cuda:0')\n",
      "tensor([0, 0, 0, 1, 1, 1, 0, 1, 0, 1, 0, 0, 1, 1, 0, 1], device='cuda:0')\n",
      "tensor([1, 0, 1, 0, 0, 1, 1, 0, 0, 1, 0, 1, 1, 0, 1, 0], device='cuda:0')\n",
      "tensor([1, 0, 1, 1, 0, 1, 0, 1, 0, 1, 0, 1, 0, 0, 1, 0], device='cuda:0')\n",
      "tensor([0, 1, 1, 0, 1, 1, 0, 0, 1, 0, 1, 0, 0, 0, 1, 0], device='cuda:0')\n",
      "tensor([1, 0, 0, 1, 1, 1, 0, 1, 1, 1, 0, 0, 1, 0, 1, 0], device='cuda:0')\n",
      "tensor([1, 1, 0, 1, 0, 1, 1, 1, 1, 1, 1, 1, 0, 1, 0, 0], device='cuda:0')\n",
      "tensor([0, 1, 1, 1, 1, 0, 0, 0, 0, 1, 1, 1, 1, 0, 0, 0], device='cuda:0')\n",
      "tensor([1, 0, 1, 1, 0, 0, 0, 0, 0, 1, 1, 0, 0, 0, 0, 0], device='cuda:0')\n",
      "tensor([1, 0, 1, 1, 0, 1, 0, 1, 0, 0, 0, 0, 1, 1, 0, 1], device='cuda:0')\n",
      "tensor([1, 0, 0, 0, 0, 1, 0, 1, 1, 1, 0, 0, 1, 1, 1, 1], device='cuda:0')\n",
      "tensor([0, 1, 1, 0, 0, 0, 0, 1, 0, 1, 1, 1, 0, 1, 0, 0], device='cuda:0')\n",
      "tensor([0, 1, 0, 1, 1, 1, 1, 0, 0, 1, 0, 1, 0, 1, 0, 1], device='cuda:0')\n",
      "tensor([1, 1, 1, 0, 1, 0, 0, 0, 1, 0, 1, 0, 0, 1, 1, 1], device='cuda:0')\n",
      "tensor([0, 1, 1, 1, 1, 0, 0, 0, 1, 0, 0], device='cuda:0')\n",
      "epoch 3\n",
      "Loss:0.059462361  Test_accuracy: 0.819119025,  Test_f1_score: 0.81636537\n",
      "tensor([0, 1, 1, 1, 0, 0, 0, 0, 0, 0, 0, 0, 1, 1, 1, 1], device='cuda:0')\n",
      "tensor([1, 0, 1, 1, 1, 0, 0, 1, 1, 1, 1, 0, 0, 0, 0, 0], device='cuda:0')\n",
      "tensor([1, 0, 0, 1, 0, 0, 0, 0, 0, 0, 0, 1, 1, 1, 0, 0], device='cuda:0')\n",
      "tensor([1, 0, 0, 0, 0, 0, 0, 1, 1, 1, 0, 0, 1, 1, 1, 1], device='cuda:0')\n",
      "tensor([1, 0, 0, 1, 0, 0, 1, 0, 0, 0, 0, 1, 1, 0, 1, 1], device='cuda:0')\n",
      "tensor([0, 1, 0, 0, 0, 1, 0, 0, 0, 0, 0, 1, 0, 1, 1, 1], device='cuda:0')\n",
      "tensor([0, 0, 0, 0, 0, 0, 0, 1, 0, 0, 0, 1, 1, 1, 0, 1], device='cuda:0')\n",
      "tensor([1, 0, 1, 1, 1, 1, 0, 1, 0, 0, 0, 1, 0, 0, 0, 0], device='cuda:0')\n",
      "tensor([0, 0, 0, 0, 0, 0, 1, 1, 0, 1, 1, 0, 0, 0, 0, 0], device='cuda:0')\n",
      "tensor([1, 0, 1, 0, 0, 0, 1, 0, 1, 1, 1, 1, 1, 1, 1, 0], device='cuda:0')\n",
      "tensor([0, 1, 0, 0, 0, 1, 1, 0, 0, 1, 0, 1, 0, 0, 1, 1], device='cuda:0')\n",
      "tensor([1, 1, 0, 0, 1, 0, 0, 1, 0, 1, 0, 0, 0, 1, 0, 1], device='cuda:0')\n",
      "tensor([1, 0, 0, 0, 0, 0, 0, 1, 0, 1, 0, 1, 1, 0, 0, 0], device='cuda:0')\n",
      "tensor([1, 0, 1, 1, 0, 0, 0, 0, 1, 1, 1, 0, 0, 0, 1, 0], device='cuda:0')\n",
      "tensor([0, 1, 0, 1, 0, 1, 0, 0, 0, 0, 0, 0, 0, 1, 0, 0], device='cuda:0')\n",
      "tensor([0, 1, 0, 0, 0, 0, 0, 0, 0, 0, 1, 0, 0, 0, 0, 1], device='cuda:0')\n",
      "tensor([0, 1, 0, 1, 1, 0, 0, 0, 0, 0, 1, 1, 1, 0, 1, 0], device='cuda:0')\n",
      "tensor([0, 1, 0, 0, 1, 0, 0, 0, 0, 1, 1, 0, 1, 1, 1, 1], device='cuda:0')\n",
      "tensor([0, 1, 1, 0, 0, 0, 0, 0, 1, 1, 0, 0, 0, 1, 0, 1], device='cuda:0')\n",
      "tensor([1, 1, 1, 0, 0, 1, 0, 0, 1, 0, 1, 0, 1, 1, 0, 0], device='cuda:0')\n",
      "tensor([1, 0, 0, 0, 0, 1, 0, 0, 1, 0, 0, 0, 0, 1, 0, 0], device='cuda:0')\n",
      "tensor([1, 0, 1, 0, 0, 1, 0, 0, 0, 0, 0, 0, 1, 0, 1, 0], device='cuda:0')\n",
      "tensor([0, 1, 0, 0, 0, 0, 1, 0, 1, 0, 1, 0, 0, 0, 0, 0], device='cuda:0')\n",
      "tensor([1, 1, 1, 1, 0, 0, 0, 0, 0, 0, 0, 0, 0, 0, 0, 0], device='cuda:0')\n",
      "tensor([1, 1, 0, 0, 0, 0, 0, 0, 0, 0, 0, 1, 1, 0, 1, 0], device='cuda:0')\n",
      "tensor([1, 0, 0, 0, 0, 0, 1, 0, 0, 0, 0, 1, 0, 0, 1, 0], device='cuda:0')\n",
      "tensor([0, 0, 0, 1, 1, 1, 0, 1, 0, 0, 0, 1, 1, 0, 0, 0], device='cuda:0')\n",
      "tensor([0, 1, 1, 0, 0, 1, 0, 0, 0, 1, 0, 0, 0, 0, 1, 1], device='cuda:0')\n",
      "tensor([0, 1, 0, 0, 1, 0, 1, 1, 1, 0, 0, 1, 1, 0, 0, 1], device='cuda:0')\n",
      "tensor([0, 0, 1, 0, 0, 1, 0, 0, 0, 1, 1, 1, 1, 0, 0, 0], device='cuda:0')\n",
      "tensor([0, 0, 0, 1, 0, 0, 0, 1, 1, 0, 1, 0, 0, 1, 0, 0], device='cuda:0')\n",
      "tensor([1, 0, 1, 0, 0, 0, 0, 0, 1, 0, 0, 0, 1, 0, 0, 0], device='cuda:0')\n",
      "tensor([0, 0, 0, 0, 1, 0, 1, 1, 0, 1, 0, 0, 0, 0, 0, 0], device='cuda:0')\n",
      "tensor([1, 0, 0, 0, 0, 0, 1, 0, 1, 0, 1, 1, 0, 1, 0, 0], device='cuda:0')\n",
      "tensor([0, 0, 0, 0, 1, 0, 0, 1, 1, 0, 0, 1, 1, 0, 0, 1], device='cuda:0')\n",
      "tensor([0, 1, 0, 1, 0, 0, 0, 1, 1, 0, 1, 0, 1, 0, 1, 1], device='cuda:0')\n",
      "tensor([0, 0, 0, 1, 0, 1, 1, 1, 0, 0, 1, 0, 1, 1, 0, 0], device='cuda:0')\n",
      "tensor([1, 0, 0, 1, 0, 0, 1, 0, 0, 0, 1, 0, 1, 0, 0, 0], device='cuda:0')\n",
      "tensor([1, 0, 0, 1, 0, 1, 0, 0, 1, 0, 0, 0, 0, 1, 0, 1], device='cuda:0')\n",
      "tensor([1, 1, 1, 1, 0, 0, 0, 0, 0, 0, 0, 0, 0, 0, 0, 1], device='cuda:0')\n",
      "tensor([0, 0, 0, 1, 0, 1, 0, 0, 0, 1, 0, 1, 1, 0, 0, 0], device='cuda:0')\n",
      "tensor([0, 0, 0, 1, 0, 1, 1, 0, 0, 1, 0, 0, 1, 1, 0, 0], device='cuda:0')\n",
      "tensor([0, 0, 0, 1, 1, 0, 1, 1, 1, 0, 0, 0, 0, 0, 0, 0], device='cuda:0')\n",
      "tensor([0, 0, 1, 0, 1, 1, 1, 0, 1, 1, 0, 1, 0, 0, 1, 0], device='cuda:0')\n",
      "tensor([0, 1, 0, 1, 0, 1, 1, 0, 0, 0, 0, 0, 1, 1, 0, 0], device='cuda:0')\n",
      "tensor([0, 0, 0, 1, 1, 1, 0, 0, 0, 0, 1, 0, 1, 0, 1, 0], device='cuda:0')\n",
      "tensor([0, 0, 1, 0, 1, 0, 0, 0, 0, 0, 0, 0, 0, 1, 0, 0], device='cuda:0')\n",
      "tensor([1, 1, 0, 0, 0, 0, 0, 0, 0, 1, 1, 0, 1, 1, 0, 1], device='cuda:0')\n",
      "tensor([1, 0, 1, 1, 0, 0, 1, 0, 0, 1, 0, 0, 1, 1, 1, 0], device='cuda:0')\n",
      "tensor([0, 0, 0, 0, 0, 0, 1, 0, 0, 1, 0, 0, 0, 0, 1, 0], device='cuda:0')\n",
      "tensor([0, 0, 1, 1, 0, 0, 0, 0, 0, 0, 0, 1, 0, 0, 0, 0], device='cuda:0')\n",
      "tensor([0, 0, 0, 0, 0, 0, 1, 0, 0, 0, 0, 0, 1, 0, 0, 1], device='cuda:0')\n",
      "tensor([0, 1, 0, 0, 1, 1, 0, 0, 1, 1, 1, 0, 0, 0, 0, 1], device='cuda:0')\n",
      "tensor([0, 0, 0, 1, 1, 1, 0, 1, 0, 0, 0, 0, 0, 0, 0, 1], device='cuda:0')\n",
      "tensor([0, 0, 1, 1, 0, 1, 1, 0, 0, 0, 0, 1, 1, 0, 1, 0], device='cuda:0')\n",
      "tensor([1, 0, 1, 1, 0, 1, 0, 1, 0, 1, 0, 1, 0, 0, 0, 0], device='cuda:0')\n",
      "tensor([0, 1, 1, 0, 0, 1, 0, 0, 1, 0, 1, 0, 0, 0, 1, 0], device='cuda:0')\n",
      "tensor([1, 0, 0, 0, 1, 1, 0, 1, 0, 0, 0, 0, 0, 0, 1, 0], device='cuda:0')\n",
      "tensor([1, 0, 0, 1, 0, 1, 1, 0, 1, 1, 1, 1, 0, 0, 0, 0], device='cuda:0')\n",
      "tensor([0, 1, 1, 0, 1, 0, 0, 0, 0, 1, 1, 1, 1, 0, 0, 0], device='cuda:0')\n",
      "tensor([1, 0, 1, 0, 0, 0, 0, 0, 0, 1, 1, 0, 0, 0, 0, 0], device='cuda:0')\n",
      "tensor([1, 0, 0, 1, 0, 1, 0, 0, 0, 0, 0, 0, 1, 1, 0, 1], device='cuda:0')\n",
      "tensor([0, 0, 0, 0, 0, 1, 0, 0, 0, 1, 0, 1, 1, 1, 1, 1], device='cuda:0')\n",
      "tensor([0, 0, 1, 0, 0, 0, 0, 0, 0, 1, 0, 1, 0, 1, 0, 0], device='cuda:0')\n",
      "tensor([0, 1, 0, 0, 1, 1, 1, 0, 0, 1, 0, 1, 0, 1, 0, 1], device='cuda:0')\n",
      "tensor([1, 1, 1, 0, 1, 0, 0, 0, 1, 0, 1, 0, 0, 1, 1, 1], device='cuda:0')\n",
      "tensor([0, 1, 1, 0, 1, 0, 0, 0, 1, 0, 0], device='cuda:0')\n",
      "epoch 4\n",
      "Loss:0.004121113  Test_accuracy: 0.804123711,  Test_f1_score: 0.76700111\n"
     ]
    }
   ],
   "source": [
    "for epoch in range(4):\n",
    "    model.train()\n",
    "    for batch_x,batch_y in train_loader:\n",
    "        batch_x = batch_x.to(device)\n",
    "        batch_y = batch_y.to(device)\n",
    "        mask = []\n",
    "        for single_sentence in batch_x:\n",
    "            mask.append([1 if i != 0 else 0 for i in single_sentence])\n",
    "        attention_mask = torch.Tensor(mask).to(device)\n",
    "        batch_out = model(batch_x, attention_mask=attention_mask)\n",
    "        #print(batch_out)\n",
    "        loss = loss_func(batch_out[0],batch_y)\n",
    "        #print(loss)\n",
    "        optimizer.zero_grad()\n",
    "        loss.backward()\n",
    "        optimizer.step()\n",
    "    model.eval()\n",
    "    y_true = []\n",
    "    y_pred = []\n",
    "    for batch_x,batch_y in test_loader:\n",
    "        batch_x = batch_x.to(device)\n",
    "        batch_y = batch_y.to(device)\n",
    "        mask = []\n",
    "        for single_sentence in batch_x:\n",
    "            mask.append([1 if i != 0 else 0 for i in single_sentence])\n",
    "        attention_mask = torch.Tensor(mask).to(device)\n",
    "        batch_pred = model(batch_x,attention_mask=attention_mask)[0].argmax(dim=-1)\n",
    "        #print(batch_pred)\n",
    "        for y in batch_pred.cpu().numpy():\n",
    "            y_pred.append(y)\n",
    "        for y in batch_y.cpu().numpy():\n",
    "            y_true.append(y)\n",
    "    accuracy = metrics.accuracy_score(y_true,y_pred)\n",
    "    f1_score = metrics.f1_score(y_true,y_pred)\n",
    "    print(\"epoch %d\\nLoss:%.9f  Test_accuracy: %.9f,  Test_f1_score: %.8f\" %(epoch+1,loss,accuracy,f1_score))"
   ]
  },
  {
   "cell_type": "markdown",
   "metadata": {},
   "source": [
    "# BERT test"
   ]
  },
  {
   "cell_type": "code",
   "execution_count": 2,
   "metadata": {},
   "outputs": [],
   "source": [
    "from transformers import BertTokenizer\n",
    "tokenizer = BertTokenizer.from_pretrained('./bert_base_uncase/')"
   ]
  },
  {
   "cell_type": "code",
   "execution_count": 3,
   "metadata": {},
   "outputs": [
    {
     "data": {
      "text/plain": [
       "[101, 1045, 2293, 14255, 18684, 2099, 1012, 102]"
      ]
     },
     "execution_count": 3,
     "metadata": {},
     "output_type": "execute_result"
    }
   ],
   "source": [
    "text_batch = [\"I love Pixar.\", \"I don't care for Pixar.\"]\n",
    "tokenizer.encode(text_batch[0].strip().lower())"
   ]
  },
  {
   "cell_type": "code",
   "execution_count": 41,
   "metadata": {},
   "outputs": [
    {
     "data": {
      "text/plain": [
       "[101, 1045, 2293, 14255, 18684, 2099, 1012, 102]"
      ]
     },
     "execution_count": 41,
     "metadata": {},
     "output_type": "execute_result"
    }
   ],
   "source": [
    "tokenizer.encode(text_batch[0])"
   ]
  },
  {
   "cell_type": "code",
   "execution_count": 68,
   "metadata": {},
   "outputs": [],
   "source": [
    "input_ids= list(tokenizer.encode(text_batch[0]))\n",
    "input_ids = np.array(input_ids,dtype=np.int64)"
   ]
  },
  {
   "cell_type": "code",
   "execution_count": 69,
   "metadata": {},
   "outputs": [],
   "source": [
    "input_ids = torch.from_numpy(input_ids)"
   ]
  },
  {
   "cell_type": "code",
   "execution_count": 70,
   "metadata": {},
   "outputs": [
    {
     "data": {
      "text/plain": [
       "tensor([  101,  1045,  2293, 14255, 18684,  2099,  1012,   102])"
      ]
     },
     "execution_count": 70,
     "metadata": {},
     "output_type": "execute_result"
    }
   ],
   "source": [
    "input_ids"
   ]
  },
  {
   "cell_type": "code",
   "execution_count": 84,
   "metadata": {
    "collapsed": true,
    "jupyter": {
     "outputs_hidden": true
    }
   },
   "outputs": [
    {
     "name": "stdout",
     "output_type": "stream",
     "text": [
      "Package                    Version            \n",
      "-------------------------- -------------------\n",
      "anaconda-client            1.7.2              \n",
      "anaconda-navigator         1.9.2              \n",
      "asn1crypto                 1.3.0              \n",
      "attrs                      19.3.0             \n",
      "backcall                   0.1.0              \n",
      "bcrypt                     3.1.7              \n",
      "beautifulsoup4             4.8.1              \n",
      "bert-extractive-summarizer 0.3.0              \n",
      "bleach                     3.1.0              \n",
      "blis                       0.2.4              \n",
      "boto                       2.49.0             \n",
      "boto3                      1.14.12            \n",
      "botocore                   1.17.12            \n",
      "Bottleneck                 1.3.2              \n",
      "cachetools                 4.1.0              \n",
      "certifi                    2020.6.20          \n",
      "cffi                       1.14.0             \n",
      "chardet                    3.0.4              \n",
      "Click                      7.0                \n",
      "clyent                     1.2.2              \n",
      "conda                      4.8.3              \n",
      "conda-build                3.15.1             \n",
      "conda-package-handling     1.6.0              \n",
      "cryptography               2.8                \n",
      "cycler                     0.10.0             \n",
      "cymem                      2.0.3              \n",
      "decorator                  4.4.1              \n",
      "defusedxml                 0.6.0              \n",
      "docutils                   0.15.2             \n",
      "dominate                   2.4.0              \n",
      "elasticsearch              7.0.4              \n",
      "entrypoints                0.3                \n",
      "filelock                   3.0.12             \n",
      "Flask-Bootstrap            3.3.7.1            \n",
      "Flask-SQLAlchemy           2.4.1              \n",
      "fuzzywuzzy                 0.17.0             \n",
      "gensim                     3.8.0              \n",
      "glob2                      0.7                \n",
      "google-api-core            1.17.0             \n",
      "google-auth                1.14.1             \n",
      "google-cloud-core          1.3.0              \n",
      "google-cloud-storage       1.28.0             \n",
      "google-resumable-media     0.5.0              \n",
      "googleapis-common-protos   1.51.0             \n",
      "idna                       2.8                \n",
      "importlib-metadata         1.5.0              \n",
      "ipykernel                  5.1.4              \n",
      "ipython                    7.12.0             \n",
      "ipython-genutils           0.2.0              \n",
      "ipywidgets                 7.5.1              \n",
      "jedi                       0.16.0             \n",
      "Jinja2                     2.11.1             \n",
      "jmespath                   0.9.4              \n",
      "joblib                     0.14.1             \n",
      "json5                      0.9.1              \n",
      "jsonschema                 3.2.0              \n",
      "jupyter                    1.0.0              \n",
      "jupyter-client             5.3.4              \n",
      "jupyter-console            6.1.0              \n",
      "jupyter-core               4.6.1              \n",
      "jupyterlab                 1.2.6              \n",
      "jupyterlab-server          1.0.6              \n",
      "kiwisolver                 1.1.0              \n",
      "lab                        5.3                \n",
      "MarkupSafe                 1.1.1              \n",
      "matplotlib                 3.1.3              \n",
      "mistune                    0.8.4              \n",
      "mkl-fft                    1.0.15             \n",
      "mkl-random                 1.1.1              \n",
      "mkl-service                2.3.0              \n",
      "murmurhash                 1.0.2              \n",
      "mysqlclient                1.4.6              \n",
      "nameparser                 1.0.5              \n",
      "navigator-updater          0.2.1              \n",
      "nbconvert                  5.6.1              \n",
      "nbformat                   5.0.4              \n",
      "neobolt                    1.7.16             \n",
      "neotime                    1.7.4              \n",
      "neuralcoref                4.0                \n",
      "nltk                       3.5                \n",
      "notebook                   6.0.3              \n",
      "numpy                      1.18.1             \n",
      "olefile                    0.46               \n",
      "packaging                  20.4               \n",
      "pandas                     1.0.4              \n",
      "pandocfilters              1.4.2              \n",
      "paramiko                   2.6.0              \n",
      "parso                      0.6.1              \n",
      "pexpect                    4.8.0              \n",
      "pickleshare                0.7.5              \n",
      "Pillow                     7.0.0              \n",
      "pip                        20.0.2             \n",
      "pkginfo                    1.5.0.1            \n",
      "plac                       0.9.6              \n",
      "plotting                   0.0.6              \n",
      "preshed                    2.0.1              \n",
      "prettytable                0.7.2              \n",
      "prometheus-client          0.7.1              \n",
      "prompt-toolkit             3.0.3              \n",
      "protobuf                   3.12.3             \n",
      "psutil                     5.6.7              \n",
      "ptyprocess                 0.6.0              \n",
      "py2neo                     4.3.0              \n",
      "pyahocorasick              1.4.0              \n",
      "pyasn1                     0.4.8              \n",
      "pyasn1-modules             0.2.7              \n",
      "pycosat                    0.6.3              \n",
      "pycparser                  2.19               \n",
      "pycrypto                   2.6.1              \n",
      "pyecharts                  1.5.1              \n",
      "Pygments                   2.5.2              \n",
      "PyMySQL                    0.9.3              \n",
      "PyNaCl                     1.3.0              \n",
      "pyOpenSSL                  19.1.0             \n",
      "pyparsing                  2.4.6              \n",
      "pyrsistent                 0.15.7             \n",
      "PySocks                    1.7.1              \n",
      "python-dateutil            2.8.1              \n",
      "pytz                       2019.3             \n",
      "PyYAML                     5.3                \n",
      "pyzmq                      18.1.1             \n",
      "qtconsole                  4.6.0              \n",
      "QtPy                       1.9.0              \n",
      "regex                      2020.1.8           \n",
      "requests                   2.22.0             \n",
      "rsa                        4.0                \n",
      "ruamel-yaml                0.15.87            \n",
      "s3transfer                 0.3.3              \n",
      "sacremoses                 0.0.38             \n",
      "scikit-learn               0.22.1             \n",
      "scipy                      1.5.0              \n",
      "scp                        0.13.2             \n",
      "seaborn                    0.10.1             \n",
      "Send2Trash                 1.5.0              \n",
      "sentencepiece              0.1.85             \n",
      "setuptools                 45.2.0.post20200210\n",
      "simplejson                 3.16.0             \n",
      "six                        1.14.0             \n",
      "smart-open                 2.0.0              \n",
      "soupsieve                  1.9.5              \n",
      "spacy                      2.1.3              \n",
      "srsly                      1.0.1              \n",
      "ssh                        1.8.0              \n",
      "terminado                  0.8.3              \n",
      "testpath                   0.4.4              \n",
      "thinc                      7.0.8              \n",
      "tokenizers                 0.8.1rc1           \n",
      "torch                      1.5.1              \n",
      "torchvision                0.6.0a0+35d732a    \n",
      "tornado                    6.0.4              \n",
      "tqdm                       4.42.1             \n",
      "traitlets                  4.3.3              \n",
      "transformers               3.0.2              \n",
      "urllib3                    1.25.8             \n",
      "uvloop                     0.12.2             \n",
      "visitor                    0.1.3              \n",
      "wasabi                     0.6.0              \n",
      "wcwidth                    0.1.8              \n",
      "webencodings               0.5.1              \n",
      "wheel                      0.34.2             \n",
      "whoswho                    0.2.1              \n",
      "widgetsnbextension         3.5.1              \n",
      "zhon                       1.1.5              \n",
      "zipp                       2.2.0              \n"
     ]
    }
   ],
   "source": [
    "!pip list"
   ]
  },
  {
   "cell_type": "code",
   "execution_count": 4,
   "metadata": {},
   "outputs": [
    {
     "name": "stderr",
     "output_type": "stream",
     "text": [
      "Asking to truncate to max_length but no maximum length is provided and the model has no predefined maximum length. Default to no truncation.\n"
     ]
    }
   ],
   "source": [
    "encoding = tokenizer(text_batch, return_tensors='pt', padding=True, truncation=True)\n",
    "input_ids = encoding['input_ids']\n",
    "attention_mask = encoding['attention_mask']"
   ]
  },
  {
   "cell_type": "code",
   "execution_count": 5,
   "metadata": {},
   "outputs": [
    {
     "data": {
      "text/plain": [
       "{'input_ids': tensor([[  101,  1045,  2293, 14255, 18684,  2099,  1012,   102,     0,     0,\n",
       "             0,     0],\n",
       "        [  101,  1045,  2123,  1005,  1056,  2729,  2005, 14255, 18684,  2099,\n",
       "          1012,   102]]), 'token_type_ids': tensor([[0, 0, 0, 0, 0, 0, 0, 0, 0, 0, 0, 0],\n",
       "        [0, 0, 0, 0, 0, 0, 0, 0, 0, 0, 0, 0]]), 'attention_mask': tensor([[1, 1, 1, 1, 1, 1, 1, 1, 0, 0, 0, 0],\n",
       "        [1, 1, 1, 1, 1, 1, 1, 1, 1, 1, 1, 1]])}"
      ]
     },
     "execution_count": 5,
     "metadata": {},
     "output_type": "execute_result"
    }
   ],
   "source": [
    "encoding"
   ]
  },
  {
   "cell_type": "code",
   "execution_count": 71,
   "metadata": {},
   "outputs": [],
   "source": [
    "labels = torch.tensor([1]).unsqueeze(0)"
   ]
  },
  {
   "cell_type": "code",
   "execution_count": 72,
   "metadata": {},
   "outputs": [
    {
     "data": {
      "text/plain": [
       "tensor([[1]])"
      ]
     },
     "execution_count": 72,
     "metadata": {},
     "output_type": "execute_result"
    }
   ],
   "source": [
    "labels"
   ]
  },
  {
   "cell_type": "code",
   "execution_count": 6,
   "metadata": {},
   "outputs": [
    {
     "name": "stderr",
     "output_type": "stream",
     "text": [
      "Some weights of the model checkpoint at ./bert_base_uncase/ were not used when initializing BertForSequenceClassification: ['cls.predictions.bias', 'cls.predictions.transform.dense.weight', 'cls.predictions.transform.dense.bias', 'cls.predictions.decoder.weight', 'cls.seq_relationship.weight', 'cls.seq_relationship.bias', 'cls.predictions.transform.LayerNorm.weight', 'cls.predictions.transform.LayerNorm.bias']\n",
      "- This IS expected if you are initializing BertForSequenceClassification from the checkpoint of a model trained on another task or with another architecture (e.g. initializing a BertForSequenceClassification model from a BertForPretraining model).\n",
      "- This IS NOT expected if you are initializing BertForSequenceClassification from the checkpoint of a model that you expect to be exactly identical (initializing a BertForSequenceClassification model from a BertForSequenceClassification model).\n",
      "Some weights of BertForSequenceClassification were not initialized from the model checkpoint at ./bert_base_uncase/ and are newly initialized: ['classifier.weight', 'classifier.bias']\n",
      "You should probably TRAIN this model on a down-stream task to be able to use it for predictions and inference.\n"
     ]
    }
   ],
   "source": [
    "model = BertForSequenceClassification.from_pretrained('./bert_base_uncase/')"
   ]
  },
  {
   "cell_type": "code",
   "execution_count": 25,
   "metadata": {},
   "outputs": [],
   "source": [
    "from transformers import BertModel\n",
    "model = BertModel.from_pretrained('./bert_base_uncase/')"
   ]
  },
  {
   "cell_type": "code",
   "execution_count": 26,
   "metadata": {},
   "outputs": [],
   "source": [
    "outputs = model(input_ids)"
   ]
  },
  {
   "cell_type": "code",
   "execution_count": 24,
   "metadata": {},
   "outputs": [
    {
     "data": {
      "text/plain": [
       "tensor([[-0.2516, -0.1196, -0.0086,  ..., -0.2398,  0.8604,  0.1466],\n",
       "        [ 0.2876,  0.2653, -0.4760,  ...,  0.0110,  0.6645,  0.1701],\n",
       "        [ 1.3843,  0.6453,  0.4205,  ..., -0.3122,  0.6765,  0.2959],\n",
       "        ...,\n",
       "        [ 0.1922, -0.7967,  0.7331,  ..., -0.4473, -0.0265, -0.8457],\n",
       "        [ 0.3355, -0.9831,  0.6524,  ..., -0.5149,  0.1389, -0.7667],\n",
       "        [ 0.1508, -0.7344,  0.1803,  ..., -0.5091,  0.0310, -1.1885]],\n",
       "       grad_fn=<SelectBackward>)"
      ]
     },
     "execution_count": 24,
     "metadata": {},
     "output_type": "execute_result"
    }
   ],
   "source": [
    "outputs[0][0]\n"
   ]
  },
  {
   "cell_type": "code",
   "execution_count": null,
   "metadata": {},
   "outputs": [],
   "source": [
    "loss = outputs[0]\n",
    "loss.backward()\n",
    "optimizer.step()"
   ]
  }
 ],
 "metadata": {
  "kernelspec": {
   "display_name": "Python 3",
   "language": "python",
   "name": "python3"
  },
  "language_info": {
   "codemirror_mode": {
    "name": "ipython",
    "version": 3
   },
   "file_extension": ".py",
   "mimetype": "text/x-python",
   "name": "python",
   "nbconvert_exporter": "python",
   "pygments_lexer": "ipython3",
   "version": "3.7.4"
  }
 },
 "nbformat": 4,
 "nbformat_minor": 4
}
